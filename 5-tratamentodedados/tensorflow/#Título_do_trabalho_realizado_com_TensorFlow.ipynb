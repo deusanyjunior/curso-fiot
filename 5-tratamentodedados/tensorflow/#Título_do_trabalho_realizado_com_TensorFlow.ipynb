{
  "nbformat": 4,
  "nbformat_minor": 0,
  "metadata": {
    "colab": {
      "name": "Título do trabalho realizado com TensorFlow.ipynb",
      "provenance": []
    },
    "kernelspec": {
      "name": "python3",
      "display_name": "Python 3"
    }
  },
  "cells": [
    {
      "cell_type": "markdown",
      "metadata": {
        "id": "ChlG4Vn3Lv49"
      },
      "source": [
        "# Título do trabalho realizado com TensorFlow (Modelo com Redes Neurais para previsão de chuvas de novembro/Modelo com Redes Neurais para identificação de gatos no sofá)\n",
        "\n",
        "Trabalho desenvolvido para disciplina *Fundamentos da Internet das Coisas* do IME-USP no período 2020.2 com o intuito de analisar dados de IoT com o TensorFlow.\n",
        "\n",
        "## Equipe:\n",
        "- Primeiro membro\n",
        "- Outros membros\n",
        "\n",
        "## Descrição do trabalho\n",
        "\n",
        "Este trabalho buscou fazer o que está descrito no título da melhor maneira possível.\n",
        "\n",
        "## Conjunto de dados\n",
        "\n",
        "Descrição do conjunto de dados.\n",
        "\n",
        "### Link para download\n",
        "- [google.com](https://google.com)\n",
        "\n",
        "### Quantidade de dados utilizados\n",
        "- Treinamento\n",
        "- Validação\n",
        "- Teste\n",
        "\n",
        "## Descrição do melhor resultado\n",
        "\n",
        "- Método\n",
        "- Camadas\n",
        "- Épocas\n",
        "- Passos\n",
        "- Acurácia\n",
        "\n",
        "---\n",
        "\n"
      ]
    },
    {
      "cell_type": "code",
      "metadata": {
        "id": "yHxlZdieLoP7"
      },
      "source": [
        "# Código do passo a passo com comentários"
      ],
      "execution_count": null,
      "outputs": []
    },
    {
      "cell_type": "code",
      "metadata": {
        "id": "5O7DHtBCPi2n"
      },
      "source": [
        "# Se possível, criar uma 'célula resumo' com o menor número de linhas para se chegar ao menor resultado. "
      ],
      "execution_count": null,
      "outputs": []
    },
    {
      "cell_type": "markdown",
      "metadata": {
        "id": "mXhKV86FOkn7"
      },
      "source": [
        "## Referências\n",
        "\n",
        "- [google.com](https://google.com)"
      ]
    }
  ]
}